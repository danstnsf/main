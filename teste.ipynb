{
 "cells": [
  {
   "cell_type": "code",
   "execution_count": 3,
   "metadata": {},
   "outputs": [],
   "source": [
    "from selenium import webdriver\n",
    "from webdriver_manager.chrome import ChromeDriverManager\n",
    "from selenium.webdriver.chrome.service import Service\n",
    "from selenium.webdriver.common.keys import Keys\n",
    "from selenium.webdriver.common.by import By\n",
    "import os\n",
    "import time\n",
    "import shutil\n",
    "import csv"
   ]
  },
  {
   "cell_type": "code",
   "execution_count": 16,
   "metadata": {},
   "outputs": [],
   "source": [
    "class Extrair_dengue:\n",
    "    def __init__(self):\n",
    "        self.options=webdriver.ChromeOptions()\n",
    "        self.options.add_experimental_option(\"detach\",True)\n",
    "        self.servico= Service(ChromeDriverManager().install())\n",
    "        self.url_formulario = 'https://info.dengue.mat.br/services/api'\n",
    "        self.dict_cidade={}\n",
    "\n",
    "    def definir_locais(self,tabela_locais):\n",
    "        with open('cods_ride.csv','r',newline='') as csvfile:\n",
    "            next(csvfile)\n",
    "            csv_reader=csv.reader(csvfile,delimiter=';')\n",
    "            for linha in csv_reader:\n",
    "                cod=linha[0]\n",
    "                mun=linha[1]\n",
    "                self.dict_cidade[cod]=mun\n",
    "\n",
    "    def run(self):\n",
    "        self.driver = webdriver.Chrome(options=self.options,service=self.servico)\n",
    "        self.driver.get(self.url_formulario)\n",
    "        campo_idlocal = self.driver.find_element(By.ID,'geocode-search')            \n",
    "        campo_inic = self.driver.find_element(By.ID,'epidate_start')\n",
    "        campo_fim = self.driver.find_element(By.ID,'epidate_end')\n",
    "        download_but=self.driver.find_element(By.XPATH,'//*[@id=\"wrap\"]/div[2]/form/div/div/div[9]/input')\n",
    "        \n",
    "        lista_cods=list(self.dict_cidade.keys())\n",
    "        campo_inic.send_keys(dt_inic)\n",
    "        campo_fim.send_keys(dt_final)\n",
    "        for cod in lista_cods:\n",
    "            campo_idlocal.send_keys(cod)\n",
    "            download_but.send_keys(Keys.RETURN)\n",
    "        \n",
    "    def get_path(self):\n",
    "        #self.options.add_argument('--headless')\n",
    "        self.driver = webdriver.Chrome(options=self.options,service=self.servico)\n",
    "\n",
    "        try:\n",
    "            self.driver.get('chrome://settings/downloads')\n",
    "            download_path_element=self.driver.find_element(By.XPATH,'//*[@id=\"defaultDownloadPath\"]')\n",
    "            download_path=download_path_element.get_attribute('value')\n",
    "            return download_path\n",
    "        finally:\n",
    "            self.driver.quit()"
   ]
  },
  {
   "cell_type": "code",
   "execution_count": null,
   "metadata": {},
   "outputs": [],
   "source": [
    "Teste=Extrair_dengue()\n",
    "caminho=Teste.get_path()\n",
    "display(caminho)\n",
    "\"C:\\Users\\danie\\Documents\\python\\my_files\\Python\\saude\\data\\\\\""
   ]
  },
  {
   "cell_type": "code",
   "execution_count": 35,
   "metadata": {},
   "outputs": [],
   "source": [
    "options=webdriver.ChromeOptions()\n",
    "dir=os.getcwd()\n",
    "folder=os.path.join(dir,\"data\")\n",
    "prefs={\"download.default_directory\":folder}\n",
    "options.add_experimental_option(\"detach\",True)\n",
    "options.add_experimental_option(\"prefs\",prefs)\n",
    "servico= Service(ChromeDriverManager().install())\n",
    "driver = webdriver.Chrome(options=options,service=servico)"
   ]
  }
 ],
 "metadata": {
  "kernelspec": {
   "display_name": "Python 3",
   "language": "python",
   "name": "python3"
  },
  "language_info": {
   "codemirror_mode": {
    "name": "ipython",
    "version": 3
   },
   "file_extension": ".py",
   "mimetype": "text/x-python",
   "name": "python",
   "nbconvert_exporter": "python",
   "pygments_lexer": "ipython3",
   "version": "3.11.2"
  }
 },
 "nbformat": 4,
 "nbformat_minor": 2
}
